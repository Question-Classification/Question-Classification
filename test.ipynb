{
 "cells": [
  {
   "cell_type": "code",
   "execution_count": 40,
   "metadata": {},
   "outputs": [
    {
     "name": "stdout",
     "output_type": "stream",
     "text": [
      "Number of questions : 4307\n",
      "Number of unique questions : 3884\n"
     ]
    },
    {
     "data": {
      "text/plain": [
       "['depuis combien de temps habitez-vous Orléans ?',\n",
       " 'vous vous plaisez à\\xa0 Orléans ?',\n",
       " 'pourquoi ça ?',\n",
       " 'et est-ce que vous comptez rester à\\xa0 Orléans ?',\n",
       " \"et qu'est ce que vous faites comme travail ?\",\n",
       " 'et en quoi ça consiste ?',\n",
       " 'est est-ce que vous voulez bien me décrire une journée de travail ?',\n",
       " 'de ?',\n",
       " 'tous les détails ?',\n",
       " \"alors c'est une journée assez longue ?\"]"
      ]
     },
     "execution_count": 40,
     "metadata": {},
     "output_type": "execute_result"
    }
   ],
   "source": [
    "import pandas as pd\n",
    "\n",
    "ROOT_DATA_PATH = \"data/\"\n",
    "\n",
    "df = pd.read_csv(ROOT_DATA_PATH + \"all_questions.csv\", encoding=\"utf-8\")\n",
    "df = df.drop(df.columns[df.columns.str.contains('Unnamed')], axis=1) # remove all \"unnamed\" columns\n",
    "\n",
    "true_questions = [question.split(\" : \")[-1] for question in df.question.unique()]\n",
    "\n",
    "print(\"Number of questions :\", len(df))\n",
    "print(f\"Number of unique questions : {len(true_questions)}\")\n",
    "\n",
    "true_questions[:10]"
   ]
  },
  {
   "cell_type": "code",
   "execution_count": 13,
   "metadata": {},
   "outputs": [
    {
     "name": "stdout",
     "output_type": "stream",
     "text": [
      "<class 'pandas.core.frame.DataFrame'>\n",
      "RangeIndex: 4307 entries, 0 to 4306\n",
      "Data columns (total 13 columns):\n",
      " #   Column           Non-Null Count  Dtype  \n",
      "---  ------           --------------  -----  \n",
      " 0   id               4307 non-null   object \n",
      " 1   previous_5_turn  4264 non-null   object \n",
      " 2   question         4307 non-null   object \n",
      " 3   next_5_turn      4306 non-null   object \n",
      " 4   categorie        1793 non-null   object \n",
      " 5   annotateur       1948 non-null   object \n",
      " 6   commentaire      5 non-null      object \n",
      " 7   Unnamed: 7       0 non-null      float64\n",
      " 8   Unnamed: 8       0 non-null      float64\n",
      " 9   Unnamed: 9       2 non-null      object \n",
      " 10  Unnamed: 10      2 non-null      object \n",
      " 11  Unnamed: 11      2 non-null      object \n",
      " 12  Unnamed: 12      2 non-null      object \n",
      "dtypes: float64(2), object(11)\n",
      "memory usage: 437.6+ KB\n"
     ]
    }
   ],
   "source": [
    "df.info()"
   ]
  },
  {
   "cell_type": "code",
   "execution_count": 14,
   "metadata": {},
   "outputs": [
    {
     "data": {
      "text/plain": [
       "\"#spk2 : non | #spk2 spk3 : c'était\\nc'est quoi | #spk3 : qui vous a pas plu euh dans le film ? | #spk2 : euh hm je sais pas c'était sympa au niveau du \\nscénario mais je trouve que les gens jouent pas très bien euh c'est dommage que c'est que ça se termine enfin\\nc'était je sais pas je trouve que c'était pas un très bon très très bon jeu quoi | #spk3 spk2 : d'accord\\nd'acteurs\""
      ]
     },
     "execution_count": 14,
     "metadata": {},
     "output_type": "execute_result"
    }
   ],
   "source": [
    "previous_5_turn_3467 = df.iloc[3467].previous_5_turn\n",
    "\n",
    "previous_5_turn_3467"
   ]
  },
  {
   "cell_type": "code",
   "execution_count": 41,
   "metadata": {},
   "outputs": [
    {
     "data": {
      "text/plain": [
       "\"#spk3 : vous diriez quoi à aux aux gens en fait s'ils veulent aller le voir ou s'ils veulent pas aller le voir ?\""
      ]
     },
     "execution_count": 41,
     "metadata": {},
     "output_type": "execute_result"
    }
   ],
   "source": [
    "# Vu le résultat au-dessus, on sait qu'il ne faut pas utiliser les double quotes pour remplacer\n",
    "# les retours à la ligne, puisqu'ils sont bien présents dans les textes.\n",
    "question_3467 = df.iloc[3467].question\n",
    "\n",
    "question_3467"
   ]
  },
  {
   "cell_type": "markdown",
   "metadata": {},
   "source": [
    "\\# text = \"donc euh vous   vous diriez quoi à aux aux gens en fait s'ils veulent aller le voir ou s'ils veulent pas aller le voir ?\"\n",
    "\n",
    "Le texte ci-dessus est le résultat obtenu par Estelle. Donc, j'estime que leur façon de traitement, c'est de garder que la question quand il existe plusieurs phrases dans un \"turn\". S'il ne s'agit pas d'une question, il n'y pas de traitement spécifique."
   ]
  },
  {
   "cell_type": "code",
   "execution_count": 20,
   "metadata": {},
   "outputs": [
    {
     "data": {
      "text/plain": [
       "['data/eslo/ESLO2_CINE_1176_C.trs', 'data/eslo/ESLO2_CINE_1176.wav']"
      ]
     },
     "execution_count": 20,
     "metadata": {},
     "output_type": "execute_result"
    }
   ],
   "source": [
    "import os\n",
    "\n",
    "def get_file_paths(folder_path):\n",
    "    \n",
    "    file_paths = []\n",
    "    # Traverse all files and subdirectories in the current directory\n",
    "    for file_name in os.listdir(folder_path):\n",
    "        # Concatenate the path of the current file or folder\n",
    "        full_path = os.path.join(folder_path, file_name)\n",
    "        # If it is a folder, recursively traverse the subdirectories and add the sub-path to the filepath\n",
    "        if os.path.isdir(full_path):\n",
    "            file_paths += get_file_paths(full_path)\n",
    "        # if it's a file, add it to the file_paths list\n",
    "        else:\n",
    "            extension = full_path.split(\".\")[-1]\n",
    "            # choose only wav files without \"km\"\n",
    "            without_km = full_path.split(\".\")[0][-2:]\n",
    "            \n",
    "            if (extension == \"wav\" or extension == \"trs\") and without_km != \"km\":\n",
    "                file_paths.append(full_path)\n",
    "                \n",
    "    return file_paths\n",
    "\n",
    "root_path = ROOT_DATA_PATH + 'eslo'\n",
    "file_paths = get_file_paths(root_path)\n",
    "\n",
    "file_paths"
   ]
  },
  {
   "cell_type": "code",
   "execution_count": 18,
   "metadata": {},
   "outputs": [
    {
     "data": {
      "text/plain": [
       "[['data/eslo/ESLO2_CINE_1176_C.trs', 'data/eslo/ESLO2_CINE_1176.wav']]"
      ]
     },
     "execution_count": 18,
     "metadata": {},
     "output_type": "execute_result"
    }
   ],
   "source": [
    "sublists = []\n",
    "for i in range(0, len(file_paths), 2):\n",
    "    sublists.append(file_paths[i:i+2])\n",
    "    \n",
    "sublists"
   ]
  }
 ],
 "metadata": {
  "kernelspec": {
   "display_name": "Python 3 (ipykernel)",
   "language": "python",
   "name": "python3"
  },
  "language_info": {
   "codemirror_mode": {
    "name": "ipython",
    "version": 3
   },
   "file_extension": ".py",
   "mimetype": "text/x-python",
   "name": "python",
   "nbconvert_exporter": "python",
   "pygments_lexer": "ipython3",
   "version": "3.9.0"
  }
 },
 "nbformat": 4,
 "nbformat_minor": 2
}
