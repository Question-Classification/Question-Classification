{
 "cells": [
  {
   "cell_type": "code",
   "execution_count": 19,
   "metadata": {},
   "outputs": [
    {
     "name": "stdout",
     "output_type": "stream",
     "text": [
      "4307\n",
      "Nb of unique elements : 3689\n",
      "Nb of elements : 3884\n"
     ]
    },
    {
     "data": {
      "text/plain": [
       "['depuis combien de temps habitez-vous Orléans ?',\n",
       " 'vous vous plaisez à\\xa0 Orléans ?',\n",
       " 'pourquoi ça ?',\n",
       " 'et est-ce que vous comptez rester à\\xa0 Orléans ?',\n",
       " \"et qu'est ce que vous faites comme travail ?\",\n",
       " 'et en quoi ça consiste ?',\n",
       " 'est est-ce que vous voulez bien me décrire une journée de travail ?',\n",
       " 'de ?',\n",
       " 'tous les détails ?',\n",
       " \"alors c'est une journée assez longue ?\"]"
      ]
     },
     "execution_count": 19,
     "metadata": {},
     "output_type": "execute_result"
    }
   ],
   "source": [
    "# Voir le nombre de questions uniques\n",
    "import pandas as pd\n",
    "\n",
    "df = pd.read_csv(\"all_questions.csv\")\n",
    "print(len(df))\n",
    "list_questions = df.question.unique()\n",
    "true_questions = []\n",
    "for question in list_questions:\n",
    "    true_question = question.split(\" : \")[-1]\n",
    "    true_questions.append(true_question)\n",
    "print(f\"Nb of unique elements : {len(set(true_questions))}\")\n",
    "print(f\"Nb of elements : {len(true_questions)}\")\n",
    "true_questions[:10]"
   ]
  },
  {
   "cell_type": "code",
   "execution_count": 23,
   "metadata": {},
   "outputs": [
    {
     "name": "stdout",
     "output_type": "stream",
     "text": [
      "<class 'pandas.core.frame.DataFrame'>\n",
      "RangeIndex: 4307 entries, 0 to 4306\n",
      "Data columns (total 13 columns):\n",
      " #   Column           Non-Null Count  Dtype  \n",
      "---  ------           --------------  -----  \n",
      " 0   id               4307 non-null   object \n",
      " 1   previous_5_turn  4264 non-null   object \n",
      " 2   question         4307 non-null   object \n",
      " 3   next_5_turn      4306 non-null   object \n",
      " 4   categorie        1793 non-null   object \n",
      " 5   annotateur       1948 non-null   object \n",
      " 6   commentaire      5 non-null      object \n",
      " 7   Unnamed: 7       0 non-null      float64\n",
      " 8   Unnamed: 8       0 non-null      float64\n",
      " 9   Unnamed: 9       2 non-null      object \n",
      " 10  Unnamed: 10      2 non-null      object \n",
      " 11  Unnamed: 11      2 non-null      object \n",
      " 12  Unnamed: 12      2 non-null      object \n",
      "dtypes: float64(2), object(11)\n",
      "memory usage: 437.6+ KB\n"
     ]
    }
   ],
   "source": [
    "# df.id[df.id==]\n",
    "df.info()"
   ]
  },
  {
   "cell_type": "code",
   "execution_count": 43,
   "metadata": {},
   "outputs": [
    {
     "name": "stdout",
     "output_type": "stream",
     "text": [
      "#spk2 : non | #spk2 spk3 : c'était\n",
      "c'est quoi | #spk3 : qui vous a pas plu euh dans le film ? | #spk2 : euh hm je sais pas c'était sympa au niveau du \n",
      "scénario mais je trouve que les gens jouent pas très bien euh c'est dommage que c'est que ça se termine enfin\n",
      "c'était je sais pas je trouve que c'était pas un très bon très très bon jeu quoi | #spk3 spk2 : d'accord\n",
      "d'acteurs\n"
     ]
    },
    {
     "data": {
      "text/plain": [
       "\"#spk2 : non | #spk2 spk3 : c'était\\nc'est quoi | #spk3 : qui vous a pas plu euh dans le film ? | #spk2 : euh hm je sais pas c'était sympa au niveau du \\nscénario mais je trouve que les gens jouent pas très bien euh c'est dommage que c'est que ça se termine enfin\\nc'était je sais pas je trouve que c'était pas un très bon très très bon jeu quoi | #spk3 spk2 : d'accord\\nd'acteurs\""
      ]
     },
     "execution_count": 43,
     "metadata": {},
     "output_type": "execute_result"
    }
   ],
   "source": [
    "previous_5_turn_3467 = df.iloc[3467].previous_5_turn\n",
    "print(previous_5_turn_3467)\n",
    "previous_5_turn_3467"
   ]
  },
  {
   "cell_type": "code",
   "execution_count": 44,
   "metadata": {},
   "outputs": [
    {
     "name": "stdout",
     "output_type": "stream",
     "text": [
      "#spk3 : vous diriez quoi à aux aux gens en fait s'ils veulent aller le voir ou s'ils veulent pas aller le voir ?\n"
     ]
    }
   ],
   "source": [
    "# Vu le résultat au-dessus, on peut savoir qu'il ne faut pas utiliser\n",
    "# \" \" pour remplacer les retours à la ligne, il est bien présent dans les textes.\n",
    "question_3467 = df.iloc[3467].question\n",
    "print(question_3467)"
   ]
  },
  {
   "cell_type": "raw",
   "metadata": {},
   "source": [
    "# text = \"donc euh vous   vous diriez quoi à aux aux gens en fait s'ils veulent aller le voir ou s'ils veulent pas aller le voir ?\"\n",
    "le texte au-dessus est le résultat obtenu par Estelle,\n",
    "Donc, j'estime que leur façon de traitement, c'est de garder que la question quand il existe plusieurs\n",
    "phrases dans un \"turn\". S'il ne s'agit pas d'une question, il n'y pas de traitement spécifique."
   ]
  },
  {
   "cell_type": "code",
   "execution_count": 61,
   "metadata": {},
   "outputs": [
    {
     "name": "stdout",
     "output_type": "stream",
     "text": [
      "['eslo/3/ESLO2_CINE/ESLO2_CINE_1215/ESLO2_CINE_1215_C.trs', 'eslo/3/ESLO2_CINE/ESLO2_CINE_1215/ESLO2_CINE_1215.wav', 'eslo/3/ESLO2_CINE/ESLO2_CINE_1212/ESLO2_CINE_1212_C.trs', 'eslo/3/ESLO2_CINE/ESLO2_CINE_1212/ESLO2_CINE_1212.wav', 'eslo/3/ESLO2_CINE/ESLO2_CINE_1213/ESLO2_CINE_1213_C.trs', 'eslo/3/ESLO2_CINE/ESLO2_CINE_1213/ESLO2_CINE_1213.wav', 'eslo/3/ESLO2_CINE/ESLO2_CINE_1214/ESLO2_CINE_1214_C.trs', 'eslo/3/ESLO2_CINE/ESLO2_CINE_1214/ESLO2_CINE_1214.wav', 'eslo/3/ESLO2_CINE/ESLO2_CINE_1198/ESLO2_CINE_1198_C.trs', 'eslo/3/ESLO2_CINE/ESLO2_CINE_1198/ESLO2_CINE_1198.wav', 'eslo/3/ESLO2_CINE/ESLO2_CINE_1191/ESLO2_CINE_1191.wav', 'eslo/3/ESLO2_CINE/ESLO2_CINE_1191/ESLO2_CINE_1191_C.trs', 'eslo/3/ESLO2_CINE/ESLO2_CINE_1196/ESLO2_CINE_1196.wav', 'eslo/3/ESLO2_CINE/ESLO2_CINE_1196/ESLO2_CINE_1196_C.trs', 'eslo/3/ESLO2_CINE/ESLO2_CINE_1197/ESLO2_CINE_1197_C.trs', 'eslo/3/ESLO2_CINE/ESLO2_CINE_1197/ESLO2_CINE_1197.wav', 'eslo/3/ESLO2_CINE/ESLO2_CINE_1190/ESLO2_CINE_1190.wav', 'eslo/3/ESLO2_CINE/ESLO2_CINE_1190/ESLO2_CINE_1190_C.trs', 'eslo/3/ESLO2_CINE/ESLO2_CINE_1199/ESLO2_CINE_1199.wav', 'eslo/3/ESLO2_CINE/ESLO2_CINE_1199/ESLO2_CINE_1199_C.trs', 'eslo/3/ESLO2_CINE/ESLO2_CINE_1183/ESLO2_CINE_1183.wav', 'eslo/3/ESLO2_CINE/ESLO2_CINE_1183/ESLO2_CINE_1183_C.trs', 'eslo/3/ESLO2_CINE/ESLO2_CINE_1177/ESLO2_CINE_1177_C.trs', 'eslo/3/ESLO2_CINE/ESLO2_CINE_1177/ESLO2_CINE_1177.wav', 'eslo/3/ESLO2_CINE/ESLO2_CINE_1184/ESLO2_CINE_1184.wav', 'eslo/3/ESLO2_CINE/ESLO2_CINE_1184/ESLO2_CINE_1184_C.trs', 'eslo/3/ESLO2_CINE/ESLO2_CINE_1179/ESLO2_CINE_1179.wav', 'eslo/3/ESLO2_CINE/ESLO2_CINE_1179/ESLO2_CINE_1179_C.trs', 'eslo/3/ESLO2_CINE/ESLO2_CINE_1178/ESLO2_CINE_1178.wav', 'eslo/3/ESLO2_CINE/ESLO2_CINE_1178/ESLO2_CINE_1178_C.trs', 'eslo/3/ESLO2_CINE/ESLO2_CINE_1185/ESLO2_CINE_1185.wav', 'eslo/3/ESLO2_CINE/ESLO2_CINE_1185/ESLO2_CINE_1185_C.trs', 'eslo/3/ESLO2_CINE/ESLO2_CINE_1176/ESLO2_CINE_1176_C.trs', 'eslo/3/ESLO2_CINE/ESLO2_CINE_1176/ESLO2_CINE_1176.wav', 'eslo/3/ESLO2_CINE/ESLO2_CINE_1182/ESLO2_CINE_1182.wav', 'eslo/3/ESLO2_CINE/ESLO2_CINE_1182/ESLO2_CINE_1182_C.trs', 'eslo/3/ESLO2_CINE/ESLO2_CINE_1209/ESLO2_CINE_1209.wav', 'eslo/3/ESLO2_CINE/ESLO2_CINE_1209/ESLO2_CINE_1209_C.trs', 'eslo/3/ESLO2_CINE/ESLO2_CINE_1207/ESLO2_CINE_1207_C.trs', 'eslo/3/ESLO2_CINE/ESLO2_CINE_1207/ESLO2_CINE_1207.wav', 'eslo/3/ESLO2_CINE/ESLO2_CINE_1200/ESLO2_CINE_1200_C.trs', 'eslo/3/ESLO2_CINE/ESLO2_CINE_1200/ESLO2_CINE_1200.wav', 'eslo/3/ESLO2_CINE/ESLO2_CINE_1201/ESLO2_CINE_1201_C.trs', 'eslo/3/ESLO2_CINE/ESLO2_CINE_1201/ESLO2_CINE_1201.wav', 'eslo/3/ESLO2_CINE/ESLO2_CINE_1206/ESLO2_CINE_1206.wav', 'eslo/3/ESLO2_CINE/ESLO2_CINE_1206/ESLO2_CINE_1206_C.trs', 'eslo/3/ESLO2_CINE/ESLO2_CINE_1208/ESLO2_CINE_1208_C.trs', 'eslo/3/ESLO2_CINE/ESLO2_CINE_1208/ESLO2_CINE_1208.wav', 'eslo/3/ESLO2_CINE/ESLO2_CINE_1211/ESLO2_CINE_1211_C.trs', 'eslo/3/ESLO2_CINE/ESLO2_CINE_1211/ESLO2_CINE_1211.wav', 'eslo/3/ESLO2_CINE/ESLO2_CINE_1216/ESLO2_CINE_1216_C.trs', 'eslo/3/ESLO2_CINE/ESLO2_CINE_1216/ESLO2_CINE_1216.wav', 'eslo/3/ESLO2_CINE/ESLO2_CINE_1220/ESLO2_CINE_1220.wav', 'eslo/3/ESLO2_CINE/ESLO2_CINE_1220/ESLO2_CINE_1220_C.trs', 'eslo/3/ESLO2_CINE/ESLO2_CINE_1218/ESLO2_CINE_1218.wav', 'eslo/3/ESLO2_CINE/ESLO2_CINE_1218/ESLO2_CINE_1218_C.trs', 'eslo/3/ESLO2_CINE/ESLO2_CINE_1219/ESLO2_CINE_1219.wav', 'eslo/3/ESLO2_CINE/ESLO2_CINE_1219/ESLO2_CINE_1219_C.trs', 'eslo/3/ESLO2_CINE/ESLO2_CINE_1217/ESLO2_CINE_1217_C.trs', 'eslo/3/ESLO2_CINE/ESLO2_CINE_1217/ESLO2_CINE_1217.wav', 'eslo/3/ESLO2_CINE/ESLO2_CINE_1210/ESLO2_CINE_1210_C.trs', 'eslo/3/ESLO2_CINE/ESLO2_CINE_1210/ESLO2_CINE_1210.wav', 'eslo/3/ESLO2_CINE/ESLO2_CINE_1195/ESLO2_CINE_1195_C.trs', 'eslo/3/ESLO2_CINE/ESLO2_CINE_1195/ESLO2_CINE_1195.wav', 'eslo/3/ESLO2_CINE/ESLO2_CINE_1192/ESLO2_CINE_1192.wav', 'eslo/3/ESLO2_CINE/ESLO2_CINE_1192/ESLO2_CINE_1192_C.trs', 'eslo/3/ESLO2_CINE/ESLO2_CINE_1193/ESLO2_CINE_1193.wav', 'eslo/3/ESLO2_CINE/ESLO2_CINE_1193/ESLO2_CINE_1193_C.trs', 'eslo/3/ESLO2_CINE/ESLO2_CINE_1194/ESLO2_CINE_1194.wav', 'eslo/3/ESLO2_CINE/ESLO2_CINE_1194/ESLO2_CINE_1194_C.trs', 'eslo/3/ESLO2_CINE/ESLO2_CINE_1187/ESLO2_CINE_1187.wav', 'eslo/3/ESLO2_CINE/ESLO2_CINE_1187/ESLO2_CINE_1187_C.trs', 'eslo/3/ESLO2_CINE/ESLO2_CINE_1180/ESLO2_CINE_1180.wav', 'eslo/3/ESLO2_CINE/ESLO2_CINE_1180/ESLO2_CINE_1180_C.trs', 'eslo/3/ESLO2_CINE/ESLO2_CINE_1189/ESLO2_CINE_1189_C.trs', 'eslo/3/ESLO2_CINE/ESLO2_CINE_1189/ESLO2_CINE_1189.wav', 'eslo/3/ESLO2_CINE/ESLO2_CINE_1188/ESLO2_CINE_1188_C.trs', 'eslo/3/ESLO2_CINE/ESLO2_CINE_1188/ESLO2_CINE_1188.wav', 'eslo/3/ESLO2_CINE/ESLO2_CINE_1181/ESLO2_CINE_1181.wav', 'eslo/3/ESLO2_CINE/ESLO2_CINE_1181/ESLO2_CINE_1181_C.trs', 'eslo/3/ESLO2_CINE/ESLO2_CINE_1186/ESLO2_CINE_1186.wav', 'eslo/3/ESLO2_CINE/ESLO2_CINE_1186/ESLO2_CINE_1186_C.trs', 'eslo/3/ESLO2_CINE/ESLO2_CINE_1203/ESLO2_CINE_1203_C.trs', 'eslo/3/ESLO2_CINE/ESLO2_CINE_1203/ESLO2_CINE_1203.wav', 'eslo/3/ESLO2_CINE/ESLO2_CINE_1204/ESLO2_CINE_1204.wav', 'eslo/3/ESLO2_CINE/ESLO2_CINE_1204/ESLO2_CINE_1204_C.trs', 'eslo/3/ESLO2_CINE/ESLO2_CINE_1205/ESLO2_CINE_1205_C.trs', 'eslo/3/ESLO2_CINE/ESLO2_CINE_1205/ESLO2_CINE_1205.wav', 'eslo/3/ESLO2_CINE/ESLO2_CINE_1202/ESLO2_CINE_1202_C.trs', 'eslo/3/ESLO2_CINE/ESLO2_CINE_1202/ESLO2_CINE_1202.wav']\n"
     ]
    }
   ],
   "source": [
    "import os\n",
    "\n",
    "def get_file_paths(folder_path):\n",
    "    file_paths = []\n",
    "    # Traverse all files and subdirectories in the current directory\n",
    "    for file_name in os.listdir(folder_path):\n",
    "        # Concatenate the path of the current file or folder\n",
    "        full_path = os.path.join(folder_path, file_name)\n",
    "        # If it is a folder, recursively traverse the subdirectories and add the sub-path to the filepath\n",
    "        if os.path.isdir(full_path):\n",
    "            file_paths += get_file_paths(full_path)\n",
    "        # if it's a file, add it to the file_paths list\n",
    "        else:\n",
    "            extension = full_path.split(\".\")[-1]\n",
    "            # choose only wav files without \"km\"\n",
    "            without_km = full_path.split(\".\")[0][-2:]\n",
    "            if (extension == \"wav\" or extension == \"trs\") and without_km != \"km\":\n",
    "                file_paths.append(full_path)\n",
    "    return file_paths\n",
    "\n",
    "root_path = 'eslo'\n",
    "file_paths = get_file_paths(root_path)\n",
    "print(file_paths)\n"
   ]
  },
  {
   "cell_type": "code",
   "execution_count": 62,
   "metadata": {},
   "outputs": [
    {
     "name": "stdout",
     "output_type": "stream",
     "text": [
      "[['eslo/3/ESLO2_CINE/ESLO2_CINE_1215/ESLO2_CINE_1215_C.trs', 'eslo/3/ESLO2_CINE/ESLO2_CINE_1215/ESLO2_CINE_1215.wav'], ['eslo/3/ESLO2_CINE/ESLO2_CINE_1212/ESLO2_CINE_1212_C.trs', 'eslo/3/ESLO2_CINE/ESLO2_CINE_1212/ESLO2_CINE_1212.wav'], ['eslo/3/ESLO2_CINE/ESLO2_CINE_1213/ESLO2_CINE_1213_C.trs', 'eslo/3/ESLO2_CINE/ESLO2_CINE_1213/ESLO2_CINE_1213.wav'], ['eslo/3/ESLO2_CINE/ESLO2_CINE_1214/ESLO2_CINE_1214_C.trs', 'eslo/3/ESLO2_CINE/ESLO2_CINE_1214/ESLO2_CINE_1214.wav'], ['eslo/3/ESLO2_CINE/ESLO2_CINE_1198/ESLO2_CINE_1198_C.trs', 'eslo/3/ESLO2_CINE/ESLO2_CINE_1198/ESLO2_CINE_1198.wav'], ['eslo/3/ESLO2_CINE/ESLO2_CINE_1191/ESLO2_CINE_1191.wav', 'eslo/3/ESLO2_CINE/ESLO2_CINE_1191/ESLO2_CINE_1191_C.trs'], ['eslo/3/ESLO2_CINE/ESLO2_CINE_1196/ESLO2_CINE_1196.wav', 'eslo/3/ESLO2_CINE/ESLO2_CINE_1196/ESLO2_CINE_1196_C.trs'], ['eslo/3/ESLO2_CINE/ESLO2_CINE_1197/ESLO2_CINE_1197_C.trs', 'eslo/3/ESLO2_CINE/ESLO2_CINE_1197/ESLO2_CINE_1197.wav'], ['eslo/3/ESLO2_CINE/ESLO2_CINE_1190/ESLO2_CINE_1190.wav', 'eslo/3/ESLO2_CINE/ESLO2_CINE_1190/ESLO2_CINE_1190_C.trs'], ['eslo/3/ESLO2_CINE/ESLO2_CINE_1199/ESLO2_CINE_1199.wav', 'eslo/3/ESLO2_CINE/ESLO2_CINE_1199/ESLO2_CINE_1199_C.trs'], ['eslo/3/ESLO2_CINE/ESLO2_CINE_1183/ESLO2_CINE_1183.wav', 'eslo/3/ESLO2_CINE/ESLO2_CINE_1183/ESLO2_CINE_1183_C.trs'], ['eslo/3/ESLO2_CINE/ESLO2_CINE_1177/ESLO2_CINE_1177_C.trs', 'eslo/3/ESLO2_CINE/ESLO2_CINE_1177/ESLO2_CINE_1177.wav'], ['eslo/3/ESLO2_CINE/ESLO2_CINE_1184/ESLO2_CINE_1184.wav', 'eslo/3/ESLO2_CINE/ESLO2_CINE_1184/ESLO2_CINE_1184_C.trs'], ['eslo/3/ESLO2_CINE/ESLO2_CINE_1179/ESLO2_CINE_1179.wav', 'eslo/3/ESLO2_CINE/ESLO2_CINE_1179/ESLO2_CINE_1179_C.trs'], ['eslo/3/ESLO2_CINE/ESLO2_CINE_1178/ESLO2_CINE_1178.wav', 'eslo/3/ESLO2_CINE/ESLO2_CINE_1178/ESLO2_CINE_1178_C.trs'], ['eslo/3/ESLO2_CINE/ESLO2_CINE_1185/ESLO2_CINE_1185.wav', 'eslo/3/ESLO2_CINE/ESLO2_CINE_1185/ESLO2_CINE_1185_C.trs'], ['eslo/3/ESLO2_CINE/ESLO2_CINE_1176/ESLO2_CINE_1176_C.trs', 'eslo/3/ESLO2_CINE/ESLO2_CINE_1176/ESLO2_CINE_1176.wav'], ['eslo/3/ESLO2_CINE/ESLO2_CINE_1182/ESLO2_CINE_1182.wav', 'eslo/3/ESLO2_CINE/ESLO2_CINE_1182/ESLO2_CINE_1182_C.trs'], ['eslo/3/ESLO2_CINE/ESLO2_CINE_1209/ESLO2_CINE_1209.wav', 'eslo/3/ESLO2_CINE/ESLO2_CINE_1209/ESLO2_CINE_1209_C.trs'], ['eslo/3/ESLO2_CINE/ESLO2_CINE_1207/ESLO2_CINE_1207_C.trs', 'eslo/3/ESLO2_CINE/ESLO2_CINE_1207/ESLO2_CINE_1207.wav'], ['eslo/3/ESLO2_CINE/ESLO2_CINE_1200/ESLO2_CINE_1200_C.trs', 'eslo/3/ESLO2_CINE/ESLO2_CINE_1200/ESLO2_CINE_1200.wav'], ['eslo/3/ESLO2_CINE/ESLO2_CINE_1201/ESLO2_CINE_1201_C.trs', 'eslo/3/ESLO2_CINE/ESLO2_CINE_1201/ESLO2_CINE_1201.wav'], ['eslo/3/ESLO2_CINE/ESLO2_CINE_1206/ESLO2_CINE_1206.wav', 'eslo/3/ESLO2_CINE/ESLO2_CINE_1206/ESLO2_CINE_1206_C.trs'], ['eslo/3/ESLO2_CINE/ESLO2_CINE_1208/ESLO2_CINE_1208_C.trs', 'eslo/3/ESLO2_CINE/ESLO2_CINE_1208/ESLO2_CINE_1208.wav'], ['eslo/3/ESLO2_CINE/ESLO2_CINE_1211/ESLO2_CINE_1211_C.trs', 'eslo/3/ESLO2_CINE/ESLO2_CINE_1211/ESLO2_CINE_1211.wav'], ['eslo/3/ESLO2_CINE/ESLO2_CINE_1216/ESLO2_CINE_1216_C.trs', 'eslo/3/ESLO2_CINE/ESLO2_CINE_1216/ESLO2_CINE_1216.wav'], ['eslo/3/ESLO2_CINE/ESLO2_CINE_1220/ESLO2_CINE_1220.wav', 'eslo/3/ESLO2_CINE/ESLO2_CINE_1220/ESLO2_CINE_1220_C.trs'], ['eslo/3/ESLO2_CINE/ESLO2_CINE_1218/ESLO2_CINE_1218.wav', 'eslo/3/ESLO2_CINE/ESLO2_CINE_1218/ESLO2_CINE_1218_C.trs'], ['eslo/3/ESLO2_CINE/ESLO2_CINE_1219/ESLO2_CINE_1219.wav', 'eslo/3/ESLO2_CINE/ESLO2_CINE_1219/ESLO2_CINE_1219_C.trs'], ['eslo/3/ESLO2_CINE/ESLO2_CINE_1217/ESLO2_CINE_1217_C.trs', 'eslo/3/ESLO2_CINE/ESLO2_CINE_1217/ESLO2_CINE_1217.wav'], ['eslo/3/ESLO2_CINE/ESLO2_CINE_1210/ESLO2_CINE_1210_C.trs', 'eslo/3/ESLO2_CINE/ESLO2_CINE_1210/ESLO2_CINE_1210.wav'], ['eslo/3/ESLO2_CINE/ESLO2_CINE_1195/ESLO2_CINE_1195_C.trs', 'eslo/3/ESLO2_CINE/ESLO2_CINE_1195/ESLO2_CINE_1195.wav'], ['eslo/3/ESLO2_CINE/ESLO2_CINE_1192/ESLO2_CINE_1192.wav', 'eslo/3/ESLO2_CINE/ESLO2_CINE_1192/ESLO2_CINE_1192_C.trs'], ['eslo/3/ESLO2_CINE/ESLO2_CINE_1193/ESLO2_CINE_1193.wav', 'eslo/3/ESLO2_CINE/ESLO2_CINE_1193/ESLO2_CINE_1193_C.trs'], ['eslo/3/ESLO2_CINE/ESLO2_CINE_1194/ESLO2_CINE_1194.wav', 'eslo/3/ESLO2_CINE/ESLO2_CINE_1194/ESLO2_CINE_1194_C.trs'], ['eslo/3/ESLO2_CINE/ESLO2_CINE_1187/ESLO2_CINE_1187.wav', 'eslo/3/ESLO2_CINE/ESLO2_CINE_1187/ESLO2_CINE_1187_C.trs'], ['eslo/3/ESLO2_CINE/ESLO2_CINE_1180/ESLO2_CINE_1180.wav', 'eslo/3/ESLO2_CINE/ESLO2_CINE_1180/ESLO2_CINE_1180_C.trs'], ['eslo/3/ESLO2_CINE/ESLO2_CINE_1189/ESLO2_CINE_1189_C.trs', 'eslo/3/ESLO2_CINE/ESLO2_CINE_1189/ESLO2_CINE_1189.wav'], ['eslo/3/ESLO2_CINE/ESLO2_CINE_1188/ESLO2_CINE_1188_C.trs', 'eslo/3/ESLO2_CINE/ESLO2_CINE_1188/ESLO2_CINE_1188.wav'], ['eslo/3/ESLO2_CINE/ESLO2_CINE_1181/ESLO2_CINE_1181.wav', 'eslo/3/ESLO2_CINE/ESLO2_CINE_1181/ESLO2_CINE_1181_C.trs'], ['eslo/3/ESLO2_CINE/ESLO2_CINE_1186/ESLO2_CINE_1186.wav', 'eslo/3/ESLO2_CINE/ESLO2_CINE_1186/ESLO2_CINE_1186_C.trs'], ['eslo/3/ESLO2_CINE/ESLO2_CINE_1203/ESLO2_CINE_1203_C.trs', 'eslo/3/ESLO2_CINE/ESLO2_CINE_1203/ESLO2_CINE_1203.wav'], ['eslo/3/ESLO2_CINE/ESLO2_CINE_1204/ESLO2_CINE_1204.wav', 'eslo/3/ESLO2_CINE/ESLO2_CINE_1204/ESLO2_CINE_1204_C.trs'], ['eslo/3/ESLO2_CINE/ESLO2_CINE_1205/ESLO2_CINE_1205_C.trs', 'eslo/3/ESLO2_CINE/ESLO2_CINE_1205/ESLO2_CINE_1205.wav'], ['eslo/3/ESLO2_CINE/ESLO2_CINE_1202/ESLO2_CINE_1202_C.trs', 'eslo/3/ESLO2_CINE/ESLO2_CINE_1202/ESLO2_CINE_1202.wav']]\n"
     ]
    }
   ],
   "source": [
    "sublists = []\n",
    "for i in range(0, len(file_paths), 2):\n",
    "    sublists.append(file_paths[i:i+2])\n",
    "print(sublists)"
   ]
  },
  {
   "cell_type": "code",
   "execution_count": null,
   "metadata": {},
   "outputs": [],
   "source": []
  }
 ],
 "metadata": {
  "kernelspec": {
   "display_name": "venv",
   "language": "python",
   "name": "python3"
  },
  "language_info": {
   "codemirror_mode": {
    "name": "ipython",
    "version": 3
   },
   "file_extension": ".py",
   "mimetype": "text/x-python",
   "name": "python",
   "nbconvert_exporter": "python",
   "pygments_lexer": "ipython3",
   "version": "3.10.10"
  },
  "orig_nbformat": 4
 },
 "nbformat": 4,
 "nbformat_minor": 2
}
